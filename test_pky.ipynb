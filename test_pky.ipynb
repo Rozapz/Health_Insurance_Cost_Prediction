{
 "cells": [
  {
   "cell_type": "code",
   "execution_count": null,
   "metadata": {},
   "outputs": [],
   "source": [
    "import joblib\n",
    "\n",
    "model = joblib.load('finalized_model.sav')\n"
   ]
  },
  {
   "cell_type": "code",
   "execution_count": null,
   "metadata": {},
   "outputs": [],
   "source": [
    "# Assuming your model expects age, bmi, and smoker as input features\n",
    "input_data = [[30, 25.5, 1]]  # Sample input data\n",
    "\n",
    "prediction = model.predict(input_data)\n",
    "print(prediction)  # Check the predicted output\n"
   ]
  }
 ],
 "metadata": {
  "language_info": {
   "name": "python"
  },
  "orig_nbformat": 4
 },
 "nbformat": 4,
 "nbformat_minor": 2
}
